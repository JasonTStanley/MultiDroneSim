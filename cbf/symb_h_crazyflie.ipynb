{
 "cells": [
  {
   "metadata": {},
   "cell_type": "markdown",
   "source": [
    "Here we describe the system using the supported \"legacy\" crazyflie control mode. Here our input is thrust, roll, pitch, and yawrate\n",
    "so our state is $x = [yaw, x, y, z, vx, vy, vz]^\\top \\in \\mathbb{R}^7$ "
   ],
   "id": "af5f0bf663d8fb42"
  },
  {
   "metadata": {},
   "cell_type": "code",
   "outputs": [],
   "execution_count": null,
   "source": [
    "from __future__ import division\n",
    "\n",
    "from sympy.interactive.printing import init_printing\n",
    "# init_printing(use_unicode=False, wrap_line=False, use_latex=\"mathjax\")\n",
    "\n",
    "init_printing(use_unicode=False, wrap_line=False)\n",
    "# from sympy.interactive import init_session\n",
    "# init_session() \n",
    "from sympy.matrices import Matrix, eye, zeros, diag\n",
    "from sympy import symbols, diff\n",
    "import sympy as sp\n",
    "import numpy as np\n",
    "\n",
    "\n",
    "m = 7\n",
    "T = 4\n",
    "#consider a 2 robot system.\n",
    "A1 = zeros(m, m)\n",
    "B1 = zeros(m, T)\n",
    "gravity = sp.Symbol('g')\n",
    "A1[3, 1] = gravity\n",
    "A1[4, 0] = -gravity\n",
    "A1[6:, 3:6] = eye(3)\n",
    "A1\n"
   ],
   "id": "initial_id"
  }
 ],
 "metadata": {
  "kernelspec": {
   "display_name": "Python 3",
   "language": "python",
   "name": "python3"
  },
  "language_info": {
   "codemirror_mode": {
    "name": "ipython",
    "version": 2
   },
   "file_extension": ".py",
   "mimetype": "text/x-python",
   "name": "python",
   "nbconvert_exporter": "python",
   "pygments_lexer": "ipython2",
   "version": "2.7.6"
  }
 },
 "nbformat": 4,
 "nbformat_minor": 5
}
