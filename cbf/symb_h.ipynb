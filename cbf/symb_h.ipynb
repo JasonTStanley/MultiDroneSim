{
 "cells": [
  {
   "cell_type": "code",
   "id": "82c1d94da31c038e",
   "metadata": {
    "collapsed": true,
    "ExecuteTime": {
     "end_time": "2024-07-18T21:07:43.442633Z",
     "start_time": "2024-07-18T21:07:43.082268Z"
    }
   },
   "source": [
    "from __future__ import division\n",
    "\n",
    "from sympy.interactive.printing import init_printing\n",
    "init_printing(use_unicode=False, wrap_line=True, use_latex='mathjax')\n",
    "# from sympy.interactive import init_session\n",
    "# init_session() \n",
    "from sympy.matrices import Matrix, eye, zeros, diag\n",
    "from sympy import symbols, diff\n",
    "import sympy as sp\n",
    "import numpy as np\n",
    "\n",
    "#consider a 2 robot system.\n",
    "A1 = zeros(12, 12)\n",
    "B1 = zeros(12, 4)\n",
    "gravity = sp.Symbol('g')\n",
    "A1[6, 1] = gravity\n",
    "A1[7, 0] = -gravity\n",
    "A1[0:3, 3:6] = eye(3)\n",
    "A1[9:, 6:9] = eye(3)\n",
    "A1"
   ],
   "outputs": [
    {
     "data": {
      "text/plain": [
       "[0   0  0  1  0  0  0  0  0  0  0  0]\n",
       "[                                   ]\n",
       "[0   0  0  0  1  0  0  0  0  0  0  0]\n",
       "[                                   ]\n",
       "[0   0  0  0  0  1  0  0  0  0  0  0]\n",
       "[                                   ]\n",
       "[0   0  0  0  0  0  0  0  0  0  0  0]\n",
       "[                                   ]\n",
       "[0   0  0  0  0  0  0  0  0  0  0  0]\n",
       "[                                   ]\n",
       "[0   0  0  0  0  0  0  0  0  0  0  0]\n",
       "[                                   ]\n",
       "[0   g  0  0  0  0  0  0  0  0  0  0]\n",
       "[                                   ]\n",
       "[-g  0  0  0  0  0  0  0  0  0  0  0]\n",
       "[                                   ]\n",
       "[0   0  0  0  0  0  0  0  0  0  0  0]\n",
       "[                                   ]\n",
       "[0   0  0  0  0  0  1  0  0  0  0  0]\n",
       "[                                   ]\n",
       "[0   0  0  0  0  0  0  1  0  0  0  0]\n",
       "[                                   ]\n",
       "[0   0  0  0  0  0  0  0  1  0  0  0]"
      ],
      "text/latex": "$\\displaystyle \\left[\\begin{array}{cccccccccccc}0 & 0 & 0 & 1 & 0 & 0 & 0 & 0 & 0 & 0 & 0 & 0\\\\0 & 0 & 0 & 0 & 1 & 0 & 0 & 0 & 0 & 0 & 0 & 0\\\\0 & 0 & 0 & 0 & 0 & 1 & 0 & 0 & 0 & 0 & 0 & 0\\\\0 & 0 & 0 & 0 & 0 & 0 & 0 & 0 & 0 & 0 & 0 & 0\\\\0 & 0 & 0 & 0 & 0 & 0 & 0 & 0 & 0 & 0 & 0 & 0\\\\0 & 0 & 0 & 0 & 0 & 0 & 0 & 0 & 0 & 0 & 0 & 0\\\\0 & g & 0 & 0 & 0 & 0 & 0 & 0 & 0 & 0 & 0 & 0\\\\- g & 0 & 0 & 0 & 0 & 0 & 0 & 0 & 0 & 0 & 0 & 0\\\\0 & 0 & 0 & 0 & 0 & 0 & 0 & 0 & 0 & 0 & 0 & 0\\\\0 & 0 & 0 & 0 & 0 & 0 & 1 & 0 & 0 & 0 & 0 & 0\\\\0 & 0 & 0 & 0 & 0 & 0 & 0 & 1 & 0 & 0 & 0 & 0\\\\0 & 0 & 0 & 0 & 0 & 0 & 0 & 0 & 1 & 0 & 0 & 0\\end{array}\\right]$"
     },
     "execution_count": 6,
     "metadata": {},
     "output_type": "execute_result"
    }
   ],
   "execution_count": 6
  },
  {
   "metadata": {
    "ExecuteTime": {
     "end_time": "2024-07-18T21:07:43.477069Z",
     "start_time": "2024-07-18T21:07:43.447642Z"
    }
   },
   "cell_type": "code",
   "source": [
    "mass = symbols('m')\n",
    "Ixx, Iyy, Izz = symbols('Ixx Iyy Izz')\n",
    "B1[8, 0] = 1 / mass\n",
    "B1[3:6, 1:] = diag([1 / Ixx, 1 / Iyy, 1 / Izz], unpack=True)\n",
    "B1"
   ],
   "id": "9e77e28abe9cde2a",
   "outputs": [
    {
     "data": {
      "text/plain": [
       "[0   0    0    0 ]\n",
       "[                ]\n",
       "[0   0    0    0 ]\n",
       "[                ]\n",
       "[0   0    0    0 ]\n",
       "[                ]\n",
       "[    1           ]\n",
       "[0  ---   0    0 ]\n",
       "[   Ixx          ]\n",
       "[                ]\n",
       "[         1      ]\n",
       "[0   0   ---   0 ]\n",
       "[        Iyy     ]\n",
       "[                ]\n",
       "[              1 ]\n",
       "[0   0    0   ---]\n",
       "[             Izz]\n",
       "[                ]\n",
       "[0   0    0    0 ]\n",
       "[                ]\n",
       "[0   0    0    0 ]\n",
       "[                ]\n",
       "[1               ]\n",
       "[-   0    0    0 ]\n",
       "[m               ]\n",
       "[                ]\n",
       "[0   0    0    0 ]\n",
       "[                ]\n",
       "[0   0    0    0 ]\n",
       "[                ]\n",
       "[0   0    0    0 ]"
      ],
      "text/latex": "$\\displaystyle \\left[\\begin{matrix}0 & 0 & 0 & 0\\\\0 & 0 & 0 & 0\\\\0 & 0 & 0 & 0\\\\0 & \\frac{1}{Ixx} & 0 & 0\\\\0 & 0 & \\frac{1}{Iyy} & 0\\\\0 & 0 & 0 & \\frac{1}{Izz}\\\\0 & 0 & 0 & 0\\\\0 & 0 & 0 & 0\\\\\\frac{1}{m} & 0 & 0 & 0\\\\0 & 0 & 0 & 0\\\\0 & 0 & 0 & 0\\\\0 & 0 & 0 & 0\\end{matrix}\\right]$"
     },
     "execution_count": 7,
     "metadata": {},
     "output_type": "execute_result"
    }
   ],
   "execution_count": 7
  },
  {
   "metadata": {
    "ExecuteTime": {
     "end_time": "2024-07-18T21:07:43.509154Z",
     "start_time": "2024-07-18T21:07:43.480970Z"
    }
   },
   "cell_type": "code",
   "source": [
    "n = 2\n",
    "A2 = A1.copy()\n",
    "B2 = B1.copy()\n",
    "A = diag([A1, A2], unpack=True)\n",
    "B = diag([B1, B2], unpack=True)\n",
    "x1 = Matrix(symbols('x:12'))\n",
    "u1 = Matrix(symbols('u:4'))\n",
    "x2 = Matrix(symbols('x12:24'))\n",
    "u2 = Matrix(symbols('u4:8'))\n",
    "x = Matrix.vstack(x1, x2)\n",
    "u = Matrix.vstack(u1, u2)\n",
    "c = sp.symbols('c')\n",
    "Ds = Matrix([sp.symbols('Ds')])\n",
    "# Ds = 1\n",
    "print(x.shape)\n",
    "print(u.shape)\n"
   ],
   "id": "initial_id",
   "outputs": [
    {
     "name": "stdout",
     "output_type": "stream",
     "text": [
      "(24, 1)\n",
      "(8, 1)\n"
     ]
    }
   ],
   "execution_count": 8
  },
  {
   "metadata": {
    "ExecuteTime": {
     "end_time": "2024-07-18T21:07:43.580111Z",
     "start_time": "2024-07-18T21:07:43.560676Z"
    }
   },
   "cell_type": "code",
   "source": [
    "e10 = Matrix([0, 0, 0, 0, 0, 0, 0, 0, 0, 1, 0, 0])\n",
    "e11 = Matrix([0, 0, 0, 0, 0, 0, 0, 0, 0, 0, 1, 0])\n",
    "e12 = Matrix([0, 0, 0, 0, 0, 0, 0, 0, 0, 0, 0, 1])\n",
    "Exy = Matrix([e10.T, e11.T])\n",
    "Exy"
   ],
   "id": "d0eaea8d329e663",
   "outputs": [
    {
     "data": {
      "text/plain": [
       "[0  0  0  0  0  0  0  0  0  1  0  0]\n",
       "[                                  ]\n",
       "[0  0  0  0  0  0  0  0  0  0  1  0]"
      ],
      "text/latex": "$\\displaystyle \\left[\\begin{array}{cccccccccccc}0 & 0 & 0 & 0 & 0 & 0 & 0 & 0 & 0 & 1 & 0 & 0\\\\0 & 0 & 0 & 0 & 0 & 0 & 0 & 0 & 0 & 0 & 1 & 0\\end{array}\\right]$"
     },
     "execution_count": 9,
     "metadata": {},
     "output_type": "execute_result"
    }
   ],
   "execution_count": 9
  },
  {
   "metadata": {
    "ExecuteTime": {
     "end_time": "2024-07-18T21:07:43.755075Z",
     "start_time": "2024-07-18T21:07:43.739172Z"
    }
   },
   "cell_type": "code",
   "source": [
    "Ez = e12.T\n",
    "Ez"
   ],
   "id": "43e5628d21e302f1",
   "outputs": [
    {
     "data": {
      "text/plain": [
       "[0  0  0  0  0  0  0  0  0  0  0  1]"
      ],
      "text/latex": "$\\displaystyle \\left[\\begin{array}{cccccccccccc}0 & 0 & 0 & 0 & 0 & 0 & 0 & 0 & 0 & 0 & 0 & 1\\end{array}\\right]$"
     },
     "execution_count": 10,
     "metadata": {},
     "output_type": "execute_result"
    }
   ],
   "execution_count": 10
  },
  {
   "metadata": {
    "ExecuteTime": {
     "end_time": "2024-07-18T21:07:43.964650Z",
     "start_time": "2024-07-18T21:07:43.960027Z"
    }
   },
   "cell_type": "code",
   "source": [
    "def norm2(x):\n",
    "    return sp.sqrt(x.T @ x)"
   ],
   "id": "74f38dce631afaaa",
   "outputs": [],
   "execution_count": 11
  },
  {
   "metadata": {
    "ExecuteTime": {
     "end_time": "2024-07-18T21:07:44.124361Z",
     "start_time": "2024-07-18T21:07:44.120076Z"
    }
   },
   "cell_type": "code",
   "source": [
    "def h(xi, xj):\n",
    "    return norm2(Exy @ (xi - xj)) ** 4 + ((Ez / c) @ (xi - xj)) ** 4 - Ds ** 4\n"
   ],
   "id": "3fe3db4c97a49ed1",
   "outputs": [],
   "execution_count": 12
  },
  {
   "metadata": {
    "ExecuteTime": {
     "end_time": "2024-07-18T21:07:44.370447Z",
     "start_time": "2024-07-18T21:07:44.288207Z"
    }
   },
   "cell_type": "code",
   "source": [
    "# tmp = (Exy@(x1-x2)).T @ (Exy@(x1-x2))\n",
    "# tmp2 = tmp**4\n",
    "h12 = h(x1, x2)[0]\n",
    "h12\n",
    "# tmp1 = norm2(Exy@(x1-x2))**4 \n",
    "# tmp2 = ((Ez / c) @ (x1 - x2))**4"
   ],
   "id": "113ce4021d67ebf4",
   "outputs": [
    {
     "data": {
      "text/plain": [
       "                                     2              4\n",
       "    4   /           2              2\\    (x11 - x23) \n",
       "- Ds  + \\(x10 - x22)  + (-x21 + x9) /  + ------------\n",
       "                                               4     \n",
       "                                              c      "
      ],
      "text/latex": "$\\displaystyle - Ds^{4} + \\left(\\left(x_{10} - x_{22}\\right)^{2} + \\left(- x_{21} + x_{9}\\right)^{2}\\right)^{2} + \\frac{\\left(x_{11} - x_{23}\\right)^{4}}{c^{4}}$"
     },
     "execution_count": 13,
     "metadata": {},
     "output_type": "execute_result"
    }
   ],
   "execution_count": 13
  },
  {
   "metadata": {
    "ExecuteTime": {
     "end_time": "2024-07-18T21:07:44.539988Z",
     "start_time": "2024-07-18T21:07:44.430188Z"
    }
   },
   "cell_type": "code",
   "source": [
    "dhdx = h12.diff(x)\n",
    "dhdx = dhdx.reshape(24, 1)\n",
    "dhdx = Matrix(dhdx)\n",
    "dhdx\n"
   ],
   "id": "ad9870f629d93650",
   "outputs": [
    {
     "data": {
      "text/plain": [
       "[                      0                       ]\n",
       "[                                              ]\n",
       "[                      0                       ]\n",
       "[                                              ]\n",
       "[                      0                       ]\n",
       "[                                              ]\n",
       "[                      0                       ]\n",
       "[                                              ]\n",
       "[                      0                       ]\n",
       "[                                              ]\n",
       "[                      0                       ]\n",
       "[                                              ]\n",
       "[                      0                       ]\n",
       "[                                              ]\n",
       "[                      0                       ]\n",
       "[                                              ]\n",
       "[                      0                       ]\n",
       "[                                              ]\n",
       "[                /           2              2\\ ]\n",
       "[(-4*x21 + 4*x9)*\\(x10 - x22)  + (-x21 + x9) / ]\n",
       "[                                              ]\n",
       "[                /           2              2\\ ]\n",
       "[(4*x10 - 4*x22)*\\(x10 - x22)  + (-x21 + x9) / ]\n",
       "[                                              ]\n",
       "[                             3                ]\n",
       "[                4*(x11 - x23)                 ]\n",
       "[                --------------                ]\n",
       "[                       4                      ]\n",
       "[                      c                       ]\n",
       "[                                              ]\n",
       "[                      0                       ]\n",
       "[                                              ]\n",
       "[                      0                       ]\n",
       "[                                              ]\n",
       "[                      0                       ]\n",
       "[                                              ]\n",
       "[                      0                       ]\n",
       "[                                              ]\n",
       "[                      0                       ]\n",
       "[                                              ]\n",
       "[                      0                       ]\n",
       "[                                              ]\n",
       "[                      0                       ]\n",
       "[                                              ]\n",
       "[                      0                       ]\n",
       "[                                              ]\n",
       "[                      0                       ]\n",
       "[                                              ]\n",
       "[                /           2              2\\ ]\n",
       "[ (4*x21 - 4*x9)*\\(x10 - x22)  + (-x21 + x9) / ]\n",
       "[                                              ]\n",
       "[                 /           2              2\\]\n",
       "[(-4*x10 + 4*x22)*\\(x10 - x22)  + (-x21 + x9) /]\n",
       "[                                              ]\n",
       "[                             3                ]\n",
       "[               -4*(x11 - x23)                 ]\n",
       "[               ----------------               ]\n",
       "[                       4                      ]\n",
       "[                      c                       ]"
      ],
      "text/latex": "$\\displaystyle \\left[\\begin{matrix}0\\\\0\\\\0\\\\0\\\\0\\\\0\\\\0\\\\0\\\\0\\\\\\left(- 4 x_{21} + 4 x_{9}\\right) \\left(\\left(x_{10} - x_{22}\\right)^{2} + \\left(- x_{21} + x_{9}\\right)^{2}\\right)\\\\\\left(4 x_{10} - 4 x_{22}\\right) \\left(\\left(x_{10} - x_{22}\\right)^{2} + \\left(- x_{21} + x_{9}\\right)^{2}\\right)\\\\\\frac{4 \\left(x_{11} - x_{23}\\right)^{3}}{c^{4}}\\\\0\\\\0\\\\0\\\\0\\\\0\\\\0\\\\0\\\\0\\\\0\\\\\\left(4 x_{21} - 4 x_{9}\\right) \\left(\\left(x_{10} - x_{22}\\right)^{2} + \\left(- x_{21} + x_{9}\\right)^{2}\\right)\\\\\\left(- 4 x_{10} + 4 x_{22}\\right) \\left(\\left(x_{10} - x_{22}\\right)^{2} + \\left(- x_{21} + x_{9}\\right)^{2}\\right)\\\\- \\frac{4 \\left(x_{11} - x_{23}\\right)^{3}}{c^{4}}\\end{matrix}\\right]$"
     },
     "execution_count": 14,
     "metadata": {},
     "output_type": "execute_result"
    }
   ],
   "execution_count": 14
  },
  {
   "metadata": {
    "ExecuteTime": {
     "end_time": "2024-07-18T21:07:44.657527Z",
     "start_time": "2024-07-18T21:07:44.569987Z"
    }
   },
   "cell_type": "code",
   "source": [
    "\n",
    "#compare this dhdx to my hand calculation\n",
    "\n",
    "def hand_dhdx(xi, xj, i=0, j=1):\n",
    "    #this is the gradient wrt the large x of (xi - xj)\n",
    "    grad_x_sub = zeros(12 * n, 12)\n",
    "    grad_x_sub[12 * i:12 * (i + 1), :] = eye(12)\n",
    "    grad_x_sub[12 * j:12 * (j + 1), :] = -eye(12)\n",
    "    #this calculation looks correct\n",
    "\n",
    "    return 4 * (norm2(Exy @ (xi - xj)) ** 2)[0] * grad_x_sub @ (Exy.T @ Exy) @ (xi - xj) + (4 / c) * \\\n",
    "        (((Ez / c) @ (xi - xj)) ** 3)[0] * grad_x_sub @ Ez.T\n",
    "\n",
    "\n",
    "my_dhdx = hand_dhdx(x1, x2)\n",
    "my_dhdx"
   ],
   "id": "2f796dff3c7c8a11",
   "outputs": [
    {
     "data": {
      "text/plain": [
       "[                       0                       ]\n",
       "[                                               ]\n",
       "[                       0                       ]\n",
       "[                                               ]\n",
       "[                       0                       ]\n",
       "[                                               ]\n",
       "[                       0                       ]\n",
       "[                                               ]\n",
       "[                       0                       ]\n",
       "[                                               ]\n",
       "[                       0                       ]\n",
       "[                                               ]\n",
       "[                       0                       ]\n",
       "[                                               ]\n",
       "[                       0                       ]\n",
       "[                                               ]\n",
       "[                       0                       ]\n",
       "[                                               ]\n",
       "[             /             2                2\\ ]\n",
       "[ (-x21 + x9)*\\4*(x10 - x22)  + 4*(-x21 + x9) / ]\n",
       "[                                               ]\n",
       "[             /             2                2\\ ]\n",
       "[ (x10 - x22)*\\4*(x10 - x22)  + 4*(-x21 + x9) / ]\n",
       "[                                               ]\n",
       "[                             3                 ]\n",
       "[                4*(x11 - x23)                  ]\n",
       "[                --------------                 ]\n",
       "[                       4                       ]\n",
       "[                      c                        ]\n",
       "[                                               ]\n",
       "[                       0                       ]\n",
       "[                                               ]\n",
       "[                       0                       ]\n",
       "[                                               ]\n",
       "[                       0                       ]\n",
       "[                                               ]\n",
       "[                       0                       ]\n",
       "[                                               ]\n",
       "[                       0                       ]\n",
       "[                                               ]\n",
       "[                       0                       ]\n",
       "[                                               ]\n",
       "[                       0                       ]\n",
       "[                                               ]\n",
       "[                       0                       ]\n",
       "[                                               ]\n",
       "[                       0                       ]\n",
       "[                                               ]\n",
       "[            /               2                2\\]\n",
       "[(-x21 + x9)*\\- 4*(x10 - x22)  - 4*(-x21 + x9) /]\n",
       "[                                               ]\n",
       "[            /               2                2\\]\n",
       "[(x10 - x22)*\\- 4*(x10 - x22)  - 4*(-x21 + x9) /]\n",
       "[                                               ]\n",
       "[                             3                 ]\n",
       "[               -4*(x11 - x23)                  ]\n",
       "[               ----------------                ]\n",
       "[                       4                       ]\n",
       "[                      c                        ]"
      ],
      "text/latex": "$\\displaystyle \\left[\\begin{matrix}0\\\\0\\\\0\\\\0\\\\0\\\\0\\\\0\\\\0\\\\0\\\\\\left(- x_{21} + x_{9}\\right) \\left(4 \\left(x_{10} - x_{22}\\right)^{2} + 4 \\left(- x_{21} + x_{9}\\right)^{2}\\right)\\\\\\left(x_{10} - x_{22}\\right) \\left(4 \\left(x_{10} - x_{22}\\right)^{2} + 4 \\left(- x_{21} + x_{9}\\right)^{2}\\right)\\\\\\frac{4 \\left(x_{11} - x_{23}\\right)^{3}}{c^{4}}\\\\0\\\\0\\\\0\\\\0\\\\0\\\\0\\\\0\\\\0\\\\0\\\\\\left(- x_{21} + x_{9}\\right) \\left(- 4 \\left(x_{10} - x_{22}\\right)^{2} - 4 \\left(- x_{21} + x_{9}\\right)^{2}\\right)\\\\\\left(x_{10} - x_{22}\\right) \\left(- 4 \\left(x_{10} - x_{22}\\right)^{2} - 4 \\left(- x_{21} + x_{9}\\right)^{2}\\right)\\\\- \\frac{4 \\left(x_{11} - x_{23}\\right)^{3}}{c^{4}}\\end{matrix}\\right]$"
     },
     "execution_count": 15,
     "metadata": {},
     "output_type": "execute_result"
    }
   ],
   "execution_count": 15
  },
  {
   "metadata": {
    "ExecuteTime": {
     "end_time": "2024-07-18T21:07:44.778770Z",
     "start_time": "2024-07-18T21:07:44.683170Z"
    }
   },
   "cell_type": "code",
   "source": [
    "#compare the two\n",
    "difference = my_dhdx - dhdx\n",
    "difference.simplify()\n",
    "# we can see that the two are the same\n",
    "difference"
   ],
   "id": "938a4f40a4331f10",
   "outputs": [
    {
     "data": {
      "text/plain": [
       "[0]\n",
       "[ ]\n",
       "[0]\n",
       "[ ]\n",
       "[0]\n",
       "[ ]\n",
       "[0]\n",
       "[ ]\n",
       "[0]\n",
       "[ ]\n",
       "[0]\n",
       "[ ]\n",
       "[0]\n",
       "[ ]\n",
       "[0]\n",
       "[ ]\n",
       "[0]\n",
       "[ ]\n",
       "[0]\n",
       "[ ]\n",
       "[0]\n",
       "[ ]\n",
       "[0]\n",
       "[ ]\n",
       "[0]\n",
       "[ ]\n",
       "[0]\n",
       "[ ]\n",
       "[0]\n",
       "[ ]\n",
       "[0]\n",
       "[ ]\n",
       "[0]\n",
       "[ ]\n",
       "[0]\n",
       "[ ]\n",
       "[0]\n",
       "[ ]\n",
       "[0]\n",
       "[ ]\n",
       "[0]\n",
       "[ ]\n",
       "[0]\n",
       "[ ]\n",
       "[0]\n",
       "[ ]\n",
       "[0]"
      ],
      "text/latex": "$\\displaystyle \\left[\\begin{matrix}0\\\\0\\\\0\\\\0\\\\0\\\\0\\\\0\\\\0\\\\0\\\\0\\\\0\\\\0\\\\0\\\\0\\\\0\\\\0\\\\0\\\\0\\\\0\\\\0\\\\0\\\\0\\\\0\\\\0\\end{matrix}\\right]$"
     },
     "execution_count": 16,
     "metadata": {},
     "output_type": "execute_result"
    }
   ],
   "execution_count": 16
  },
  {
   "metadata": {
    "ExecuteTime": {
     "end_time": "2024-07-18T21:07:44.839680Z",
     "start_time": "2024-07-18T21:07:44.815228Z"
    }
   },
   "cell_type": "code",
   "source": [
    "#now lets check that the time derivative of h doesnt have a component in\n",
    "(my_dhdx.T @ B)\n",
    "#clearly all zeros, so we look at the next derivative\n"
   ],
   "id": "9823b167289d3419",
   "outputs": [
    {
     "data": {
      "text/plain": [
       "[0  0  0  0  0  0  0  0]"
      ],
      "text/latex": "$\\displaystyle \\left[\\begin{matrix}0 & 0 & 0 & 0 & 0 & 0 & 0 & 0\\end{matrix}\\right]$"
     },
     "execution_count": 17,
     "metadata": {},
     "output_type": "execute_result"
    }
   ],
   "execution_count": 17
  },
  {
   "metadata": {
    "ExecuteTime": {
     "end_time": "2024-07-18T21:07:45.107364Z",
     "start_time": "2024-07-18T21:07:44.918613Z"
    }
   },
   "cell_type": "code",
   "source": [
    "d2hdx2 = diff(dhdx, x)\n",
    "d2hdx2 = d2hdx2.reshape(24, 24)\n",
    "# print(d2hdx2) #this is the second derivative of h wrt x\n",
    "# d2hdx2[8:, 8:13]"
   ],
   "id": "6516b0a9ca59787",
   "outputs": [],
   "execution_count": 18
  },
  {
   "metadata": {
    "ExecuteTime": {
     "end_time": "2024-07-18T21:07:45.124439Z",
     "start_time": "2024-07-18T21:07:45.112444Z"
    }
   },
   "cell_type": "code",
   "source": [
    "#compare to my hand calculation\n",
    "def hand_d2hdx2(xi, xj, i=0, j=1):\n",
    "    grad_x_sub = zeros(12 * n, 12)\n",
    "    grad_x_sub[12 * i:12 * (i + 1), :] = eye(12)\n",
    "    grad_x_sub[12 * j:12 * (j + 1), :] = -eye(12)\n",
    "    e_12iz = zeros(12 * n, 1)\n",
    "    e_12iz[12 * i + 11] = 1\n",
    "    e_12jz = zeros(12 * n, 1)\n",
    "    e_12jz[12 * j + 11] = 1\n",
    "    #ive checked the second term and it seems fine\n",
    "    return grad_x_sub @ (8 * Exy.T @ Exy @ (xi - xj) @ ((Exy @ (xi - xj)).T @ Exy) + 4 * (norm2(Exy @ (xi - xj)) ** 2)[\n",
    "        0] * Exy.T @ Exy) @ grad_x_sub.T + (12 / c ** 2) * (((Ez / c) @ (xi - xj)) ** 2)[0] * (e_12iz - e_12jz) @ (\n",
    "                e_12iz - e_12jz).T\n",
    "\n",
    "# xi = x1\n",
    "# xj = x2\n",
    "# i=0\n",
    "# j=1\n",
    "# grad_x_sub = zeros(12*n, 12)\n",
    "# grad_x_sub[12*i:12*(i+1), :] = eye(12)\n",
    "# grad_x_sub[12*j:12*(j+1), :] = -eye(12) \n",
    "# e_12iz = zeros(12*n, 1)\n",
    "# e_12iz[12*i + 11] = 1\n",
    "# e_12jz = zeros(12*n, 1)\n",
    "# e_12jz[12*j + 11] = 1\n",
    "# pt1 = grad_x_sub @ (8*Exy.T @ Exy @ (xi-xj) @ ((Exy @ (xi-xj)).T @ Exy) + 4* (norm2(Exy @ (xi-xj))**2)[0] * Exy.T @ Exy) @ grad_x_sub.T\n",
    "# \n",
    "# pt2 = (12/c**2) * (((Ez / c) @ (xi - xj))**2)[0] * (e_12iz - e_12jz) @ (e_12iz - e_12jz).T\n",
    "# pt2"
   ],
   "id": "8723cf7c583c0d93",
   "outputs": [],
   "execution_count": 19
  },
  {
   "metadata": {
    "ExecuteTime": {
     "end_time": "2024-07-18T21:47:22.600760Z",
     "start_time": "2024-07-18T21:47:22.471024Z"
    }
   },
   "cell_type": "code",
   "source": [
    "my_d2hdx2 = hand_d2hdx2(x1, x2)\n",
    "# my_d2hdx2[8:, 8:13]\n",
    "my_d2hdx2"
   ],
   "id": "3ac4e26621629d5e",
   "outputs": [
    {
     "data": {
      "text/plain": [
       "[0  0  0  0  0  0  0  0  0                                 0                  \n",
       "[                                                                             \n",
       "[0  0  0  0  0  0  0  0  0                                 0                  \n",
       "[                                                                             \n",
       "[0  0  0  0  0  0  0  0  0                                 0                  \n",
       "[                                                                             \n",
       "[0  0  0  0  0  0  0  0  0                                 0                  \n",
       "[                                                                             \n",
       "[0  0  0  0  0  0  0  0  0                                 0                  \n",
       "[                                                                             \n",
       "[0  0  0  0  0  0  0  0  0                                 0                  \n",
       "[                                                                             \n",
       "[0  0  0  0  0  0  0  0  0                                 0                  \n",
       "[                                                                             \n",
       "[0  0  0  0  0  0  0  0  0                                 0                  \n",
       "[                                                                             \n",
       "[0  0  0  0  0  0  0  0  0                                 0                  \n",
       "[                                                                             \n",
       "[                                         2                                   \n",
       "[0  0  0  0  0  0  0  0  0   4*(x10 - x22)  + (-8*x21 + 8*x9)*(-x21 + x9) + 4*\n",
       "[                                                                             \n",
       "[                                                                             \n",
       "[0  0  0  0  0  0  0  0  0                    (8*x10 - 8*x22)*(-x21 + x9)     \n",
       "[                                                                             \n",
       "[                                                                             \n",
       "[                                                                             \n",
       "[0  0  0  0  0  0  0  0  0                                 0                  \n",
       "[                                                                             \n",
       "[                                                                             \n",
       "[                                                                             \n",
       "[0  0  0  0  0  0  0  0  0                                 0                  \n",
       "[                                                                             \n",
       "[0  0  0  0  0  0  0  0  0                                 0                  \n",
       "[                                                                             \n",
       "[0  0  0  0  0  0  0  0  0                                 0                  \n",
       "[                                                                             \n",
       "[0  0  0  0  0  0  0  0  0                                 0                  \n",
       "[                                                                             \n",
       "[0  0  0  0  0  0  0  0  0                                 0                  \n",
       "[                                                                             \n",
       "[0  0  0  0  0  0  0  0  0                                 0                  \n",
       "[                                                                             \n",
       "[0  0  0  0  0  0  0  0  0                                 0                  \n",
       "[                                                                             \n",
       "[0  0  0  0  0  0  0  0  0                                 0                  \n",
       "[                                                                             \n",
       "[0  0  0  0  0  0  0  0  0                                 0                  \n",
       "[                                                                             \n",
       "[                                          2                                  \n",
       "[0  0  0  0  0  0  0  0  0  - 4*(x10 - x22)  - (-8*x21 + 8*x9)*(-x21 + x9) - 4\n",
       "[                                                                             \n",
       "[                                                                             \n",
       "[0  0  0  0  0  0  0  0  0                   -(8*x10 - 8*x22)*(-x21 + x9)     \n",
       "[                                                                             \n",
       "[                                                                             \n",
       "[                                                                             \n",
       "[0  0  0  0  0  0  0  0  0                                 0                  \n",
       "[                                                                             \n",
       "[                                                                             \n",
       "\n",
       "                                              0                               \n",
       "                                                                              \n",
       "                                              0                               \n",
       "                                                                              \n",
       "                                              0                               \n",
       "                                                                              \n",
       "                                              0                               \n",
       "                                                                              \n",
       "                                              0                               \n",
       "                                                                              \n",
       "                                              0                               \n",
       "                                                                              \n",
       "                                              0                               \n",
       "                                                                              \n",
       "                                              0                               \n",
       "                                                                              \n",
       "                                              0                               \n",
       "                                                                              \n",
       "           2                                                                  \n",
       "(-x21 + x9)                      (x10 - x22)*(-8*x21 + 8*x9)                  \n",
       "                                                                              \n",
       "                             2                                              2 \n",
       "                4*(x10 - x22)  + (x10 - x22)*(8*x10 - 8*x22) + 4*(-x21 + x9)  \n",
       "                                                                              \n",
       "                                                                              \n",
       "                                                                              \n",
       "                                              0                               \n",
       "                                                                              \n",
       "                                                                              \n",
       "                                                                              \n",
       "                                              0                               \n",
       "                                                                              \n",
       "                                              0                               \n",
       "                                                                              \n",
       "                                              0                               \n",
       "                                                                              \n",
       "                                              0                               \n",
       "                                                                              \n",
       "                                              0                               \n",
       "                                                                              \n",
       "                                              0                               \n",
       "                                                                              \n",
       "                                              0                               \n",
       "                                                                              \n",
       "                                              0                               \n",
       "                                                                              \n",
       "                                              0                               \n",
       "                                                                              \n",
       "            2                                                                 \n",
       "*(-x21 + x9)                    -(x10 - x22)*(-8*x21 + 8*x9)                  \n",
       "                                                                              \n",
       "                              2                                              2\n",
       "               - 4*(x10 - x22)  - (x10 - x22)*(8*x10 - 8*x22) - 4*(-x21 + x9) \n",
       "                                                                              \n",
       "                                                                              \n",
       "                                                                              \n",
       "                                              0                               \n",
       "                                                                              \n",
       "                                                                              \n",
       "\n",
       "          0          0  0  0  0  0  0  0  0  0                                \n",
       "                                                                              \n",
       "          0          0  0  0  0  0  0  0  0  0                                \n",
       "                                                                              \n",
       "          0          0  0  0  0  0  0  0  0  0                                \n",
       "                                                                              \n",
       "          0          0  0  0  0  0  0  0  0  0                                \n",
       "                                                                              \n",
       "          0          0  0  0  0  0  0  0  0  0                                \n",
       "                                                                              \n",
       "          0          0  0  0  0  0  0  0  0  0                                \n",
       "                                                                              \n",
       "          0          0  0  0  0  0  0  0  0  0                                \n",
       "                                                                              \n",
       "          0          0  0  0  0  0  0  0  0  0                                \n",
       "                                                                              \n",
       "          0          0  0  0  0  0  0  0  0  0                                \n",
       "                                                                              \n",
       "                                                               2              \n",
       "          0          0  0  0  0  0  0  0  0  0  - 4*(x10 - x22)  - (-8*x21 + 8\n",
       "                                                                              \n",
       "                                                                              \n",
       "          0          0  0  0  0  0  0  0  0  0                   -(8*x10 - 8*x\n",
       "                                                                              \n",
       "                 2                                                            \n",
       "   12*(x11 - x23)                                                             \n",
       "   ---------------   0  0  0  0  0  0  0  0  0                                \n",
       "           4                                                                  \n",
       "          c                                                                   \n",
       "                                                                              \n",
       "          0          0  0  0  0  0  0  0  0  0                                \n",
       "                                                                              \n",
       "          0          0  0  0  0  0  0  0  0  0                                \n",
       "                                                                              \n",
       "          0          0  0  0  0  0  0  0  0  0                                \n",
       "                                                                              \n",
       "          0          0  0  0  0  0  0  0  0  0                                \n",
       "                                                                              \n",
       "          0          0  0  0  0  0  0  0  0  0                                \n",
       "                                                                              \n",
       "          0          0  0  0  0  0  0  0  0  0                                \n",
       "                                                                              \n",
       "          0          0  0  0  0  0  0  0  0  0                                \n",
       "                                                                              \n",
       "          0          0  0  0  0  0  0  0  0  0                                \n",
       "                                                                              \n",
       "          0          0  0  0  0  0  0  0  0  0                                \n",
       "                                                                              \n",
       "                                                              2               \n",
       "          0          0  0  0  0  0  0  0  0  0   4*(x10 - x22)  + (-8*x21 + 8*\n",
       "                                                                              \n",
       "                                                                              \n",
       "          0          0  0  0  0  0  0  0  0  0                    (8*x10 - 8*x\n",
       "                                                                              \n",
       "                 2                                                            \n",
       "  -12*(x11 - x23)                                                             \n",
       "  -----------------  0  0  0  0  0  0  0  0  0                                \n",
       "           4                                                                  \n",
       "          c                                                                   \n",
       "\n",
       " 0                                                                0           \n",
       "                                                                              \n",
       " 0                                                                0           \n",
       "                                                                              \n",
       " 0                                                                0           \n",
       "                                                                              \n",
       " 0                                                                0           \n",
       "                                                                              \n",
       " 0                                                                0           \n",
       "                                                                              \n",
       " 0                                                                0           \n",
       "                                                                              \n",
       " 0                                                                0           \n",
       "                                                                              \n",
       " 0                                                                0           \n",
       "                                                                              \n",
       " 0                                                                0           \n",
       "                                                                              \n",
       "                                2                                             \n",
       "*x9)*(-x21 + x9) - 4*(-x21 + x9)                    -(x10 - x22)*(-8*x21 + 8*x\n",
       "                                                                              \n",
       "                                                  2                           \n",
       "22)*(-x21 + x9)                    - 4*(x10 - x22)  - (x10 - x22)*(8*x10 - 8*x\n",
       "                                                                              \n",
       "                                                                              \n",
       "                                                                              \n",
       " 0                                                                0           \n",
       "                                                                              \n",
       "                                                                              \n",
       "                                                                              \n",
       " 0                                                                0           \n",
       "                                                                              \n",
       " 0                                                                0           \n",
       "                                                                              \n",
       " 0                                                                0           \n",
       "                                                                              \n",
       " 0                                                                0           \n",
       "                                                                              \n",
       " 0                                                                0           \n",
       "                                                                              \n",
       " 0                                                                0           \n",
       "                                                                              \n",
       " 0                                                                0           \n",
       "                                                                              \n",
       " 0                                                                0           \n",
       "                                                                              \n",
       " 0                                                                0           \n",
       "                                                                              \n",
       "                               2                                              \n",
       "x9)*(-x21 + x9) + 4*(-x21 + x9)                      (x10 - x22)*(-8*x21 + 8*x\n",
       "                                                                              \n",
       "                                                 2                            \n",
       "22)*(-x21 + x9)                     4*(x10 - x22)  + (x10 - x22)*(8*x10 - 8*x2\n",
       "                                                                              \n",
       "                                                                              \n",
       "                                                                              \n",
       " 0                                                                0           \n",
       "                                                                              \n",
       "                                                                              \n",
       "\n",
       "                              0        ]\n",
       "                                       ]\n",
       "                              0        ]\n",
       "                                       ]\n",
       "                              0        ]\n",
       "                                       ]\n",
       "                              0        ]\n",
       "                                       ]\n",
       "                              0        ]\n",
       "                                       ]\n",
       "                              0        ]\n",
       "                                       ]\n",
       "                              0        ]\n",
       "                                       ]\n",
       "                              0        ]\n",
       "                                       ]\n",
       "                              0        ]\n",
       "                                       ]\n",
       "                                       ]\n",
       "9)                            0        ]\n",
       "                                       ]\n",
       "                   2                   ]\n",
       "22) - 4*(-x21 + x9)           0        ]\n",
       "                                       ]\n",
       "                                     2 ]\n",
       "                      -12*(x11 - x23)  ]\n",
       "                      -----------------]\n",
       "                               4       ]\n",
       "                              c        ]\n",
       "                                       ]\n",
       "                              0        ]\n",
       "                                       ]\n",
       "                              0        ]\n",
       "                                       ]\n",
       "                              0        ]\n",
       "                                       ]\n",
       "                              0        ]\n",
       "                                       ]\n",
       "                              0        ]\n",
       "                                       ]\n",
       "                              0        ]\n",
       "                                       ]\n",
       "                              0        ]\n",
       "                                       ]\n",
       "                              0        ]\n",
       "                                       ]\n",
       "                              0        ]\n",
       "                                       ]\n",
       "                                       ]\n",
       "9)                            0        ]\n",
       "                                       ]\n",
       "                  2                    ]\n",
       "2) + 4*(-x21 + x9)            0        ]\n",
       "                                       ]\n",
       "                                     2 ]\n",
       "                       12*(x11 - x23)  ]\n",
       "                       --------------- ]\n",
       "                               4       ]\n",
       "                              c        ]"
      ],
      "text/latex": "$\\displaystyle \\left[\\begin{array}{cccccccccccccccccccccccc}0 & 0 & 0 & 0 & 0 & 0 & 0 & 0 & 0 & 0 & 0 & 0 & 0 & 0 & 0 & 0 & 0 & 0 & 0 & 0 & 0 & 0 & 0 & 0\\\\0 & 0 & 0 & 0 & 0 & 0 & 0 & 0 & 0 & 0 & 0 & 0 & 0 & 0 & 0 & 0 & 0 & 0 & 0 & 0 & 0 & 0 & 0 & 0\\\\0 & 0 & 0 & 0 & 0 & 0 & 0 & 0 & 0 & 0 & 0 & 0 & 0 & 0 & 0 & 0 & 0 & 0 & 0 & 0 & 0 & 0 & 0 & 0\\\\0 & 0 & 0 & 0 & 0 & 0 & 0 & 0 & 0 & 0 & 0 & 0 & 0 & 0 & 0 & 0 & 0 & 0 & 0 & 0 & 0 & 0 & 0 & 0\\\\0 & 0 & 0 & 0 & 0 & 0 & 0 & 0 & 0 & 0 & 0 & 0 & 0 & 0 & 0 & 0 & 0 & 0 & 0 & 0 & 0 & 0 & 0 & 0\\\\0 & 0 & 0 & 0 & 0 & 0 & 0 & 0 & 0 & 0 & 0 & 0 & 0 & 0 & 0 & 0 & 0 & 0 & 0 & 0 & 0 & 0 & 0 & 0\\\\0 & 0 & 0 & 0 & 0 & 0 & 0 & 0 & 0 & 0 & 0 & 0 & 0 & 0 & 0 & 0 & 0 & 0 & 0 & 0 & 0 & 0 & 0 & 0\\\\0 & 0 & 0 & 0 & 0 & 0 & 0 & 0 & 0 & 0 & 0 & 0 & 0 & 0 & 0 & 0 & 0 & 0 & 0 & 0 & 0 & 0 & 0 & 0\\\\0 & 0 & 0 & 0 & 0 & 0 & 0 & 0 & 0 & 0 & 0 & 0 & 0 & 0 & 0 & 0 & 0 & 0 & 0 & 0 & 0 & 0 & 0 & 0\\\\0 & 0 & 0 & 0 & 0 & 0 & 0 & 0 & 0 & 4 \\left(x_{10} - x_{22}\\right)^{2} + \\left(- 8 x_{21} + 8 x_{9}\\right) \\left(- x_{21} + x_{9}\\right) + 4 \\left(- x_{21} + x_{9}\\right)^{2} & \\left(x_{10} - x_{22}\\right) \\left(- 8 x_{21} + 8 x_{9}\\right) & 0 & 0 & 0 & 0 & 0 & 0 & 0 & 0 & 0 & 0 & - 4 \\left(x_{10} - x_{22}\\right)^{2} - \\left(- 8 x_{21} + 8 x_{9}\\right) \\left(- x_{21} + x_{9}\\right) - 4 \\left(- x_{21} + x_{9}\\right)^{2} & - \\left(x_{10} - x_{22}\\right) \\left(- 8 x_{21} + 8 x_{9}\\right) & 0\\\\0 & 0 & 0 & 0 & 0 & 0 & 0 & 0 & 0 & \\left(8 x_{10} - 8 x_{22}\\right) \\left(- x_{21} + x_{9}\\right) & 4 \\left(x_{10} - x_{22}\\right)^{2} + \\left(x_{10} - x_{22}\\right) \\left(8 x_{10} - 8 x_{22}\\right) + 4 \\left(- x_{21} + x_{9}\\right)^{2} & 0 & 0 & 0 & 0 & 0 & 0 & 0 & 0 & 0 & 0 & - \\left(8 x_{10} - 8 x_{22}\\right) \\left(- x_{21} + x_{9}\\right) & - 4 \\left(x_{10} - x_{22}\\right)^{2} - \\left(x_{10} - x_{22}\\right) \\left(8 x_{10} - 8 x_{22}\\right) - 4 \\left(- x_{21} + x_{9}\\right)^{2} & 0\\\\0 & 0 & 0 & 0 & 0 & 0 & 0 & 0 & 0 & 0 & 0 & \\frac{12 \\left(x_{11} - x_{23}\\right)^{2}}{c^{4}} & 0 & 0 & 0 & 0 & 0 & 0 & 0 & 0 & 0 & 0 & 0 & - \\frac{12 \\left(x_{11} - x_{23}\\right)^{2}}{c^{4}}\\\\0 & 0 & 0 & 0 & 0 & 0 & 0 & 0 & 0 & 0 & 0 & 0 & 0 & 0 & 0 & 0 & 0 & 0 & 0 & 0 & 0 & 0 & 0 & 0\\\\0 & 0 & 0 & 0 & 0 & 0 & 0 & 0 & 0 & 0 & 0 & 0 & 0 & 0 & 0 & 0 & 0 & 0 & 0 & 0 & 0 & 0 & 0 & 0\\\\0 & 0 & 0 & 0 & 0 & 0 & 0 & 0 & 0 & 0 & 0 & 0 & 0 & 0 & 0 & 0 & 0 & 0 & 0 & 0 & 0 & 0 & 0 & 0\\\\0 & 0 & 0 & 0 & 0 & 0 & 0 & 0 & 0 & 0 & 0 & 0 & 0 & 0 & 0 & 0 & 0 & 0 & 0 & 0 & 0 & 0 & 0 & 0\\\\0 & 0 & 0 & 0 & 0 & 0 & 0 & 0 & 0 & 0 & 0 & 0 & 0 & 0 & 0 & 0 & 0 & 0 & 0 & 0 & 0 & 0 & 0 & 0\\\\0 & 0 & 0 & 0 & 0 & 0 & 0 & 0 & 0 & 0 & 0 & 0 & 0 & 0 & 0 & 0 & 0 & 0 & 0 & 0 & 0 & 0 & 0 & 0\\\\0 & 0 & 0 & 0 & 0 & 0 & 0 & 0 & 0 & 0 & 0 & 0 & 0 & 0 & 0 & 0 & 0 & 0 & 0 & 0 & 0 & 0 & 0 & 0\\\\0 & 0 & 0 & 0 & 0 & 0 & 0 & 0 & 0 & 0 & 0 & 0 & 0 & 0 & 0 & 0 & 0 & 0 & 0 & 0 & 0 & 0 & 0 & 0\\\\0 & 0 & 0 & 0 & 0 & 0 & 0 & 0 & 0 & 0 & 0 & 0 & 0 & 0 & 0 & 0 & 0 & 0 & 0 & 0 & 0 & 0 & 0 & 0\\\\0 & 0 & 0 & 0 & 0 & 0 & 0 & 0 & 0 & - 4 \\left(x_{10} - x_{22}\\right)^{2} - \\left(- 8 x_{21} + 8 x_{9}\\right) \\left(- x_{21} + x_{9}\\right) - 4 \\left(- x_{21} + x_{9}\\right)^{2} & - \\left(x_{10} - x_{22}\\right) \\left(- 8 x_{21} + 8 x_{9}\\right) & 0 & 0 & 0 & 0 & 0 & 0 & 0 & 0 & 0 & 0 & 4 \\left(x_{10} - x_{22}\\right)^{2} + \\left(- 8 x_{21} + 8 x_{9}\\right) \\left(- x_{21} + x_{9}\\right) + 4 \\left(- x_{21} + x_{9}\\right)^{2} & \\left(x_{10} - x_{22}\\right) \\left(- 8 x_{21} + 8 x_{9}\\right) & 0\\\\0 & 0 & 0 & 0 & 0 & 0 & 0 & 0 & 0 & - \\left(8 x_{10} - 8 x_{22}\\right) \\left(- x_{21} + x_{9}\\right) & - 4 \\left(x_{10} - x_{22}\\right)^{2} - \\left(x_{10} - x_{22}\\right) \\left(8 x_{10} - 8 x_{22}\\right) - 4 \\left(- x_{21} + x_{9}\\right)^{2} & 0 & 0 & 0 & 0 & 0 & 0 & 0 & 0 & 0 & 0 & \\left(8 x_{10} - 8 x_{22}\\right) \\left(- x_{21} + x_{9}\\right) & 4 \\left(x_{10} - x_{22}\\right)^{2} + \\left(x_{10} - x_{22}\\right) \\left(8 x_{10} - 8 x_{22}\\right) + 4 \\left(- x_{21} + x_{9}\\right)^{2} & 0\\\\0 & 0 & 0 & 0 & 0 & 0 & 0 & 0 & 0 & 0 & 0 & - \\frac{12 \\left(x_{11} - x_{23}\\right)^{2}}{c^{4}} & 0 & 0 & 0 & 0 & 0 & 0 & 0 & 0 & 0 & 0 & 0 & \\frac{12 \\left(x_{11} - x_{23}\\right)^{2}}{c^{4}}\\end{array}\\right]$"
     },
     "execution_count": 29,
     "metadata": {},
     "output_type": "execute_result"
    }
   ],
   "execution_count": 29
  },
  {
   "metadata": {
    "ExecuteTime": {
     "end_time": "2024-07-18T21:07:45.675090Z",
     "start_time": "2024-07-18T21:07:45.433503Z"
    }
   },
   "cell_type": "code",
   "source": [
    "#compare\n",
    "difference2 = sp.ImmutableDenseNDimArray(my_d2hdx2) - d2hdx2\n",
    "difference2 = difference2.simplify()\n",
    "found_nonzero = False\n",
    "for i in range(24):\n",
    "    for j in range(24):\n",
    "        if difference2[i, j] != 0:\n",
    "            found_nonzero = True\n",
    "            print(i, j, difference2[i, j])\n",
    "\n",
    "if not found_nonzero:\n",
    "    print('All zeros')\n",
    "else:\n",
    "    print('Not all zeros')"
   ],
   "id": "6c93479bbabf7cdc",
   "outputs": [
    {
     "name": "stdout",
     "output_type": "stream",
     "text": [
      "All zeros\n"
     ]
    }
   ],
   "execution_count": 21
  },
  {
   "metadata": {
    "ExecuteTime": {
     "end_time": "2024-07-18T21:07:45.689404Z",
     "start_time": "2024-07-18T21:07:45.678252Z"
    }
   },
   "cell_type": "code",
   "source": [
    "from scipy.spatial.transform import Rotation\n",
    "\n",
    "\n",
    "def rpy_to_rot(rpy):\n",
    "    roll, pitch, yaw = rpy\n",
    "    sin = sp.sin\n",
    "    cos = sp.cos\n",
    "    \n",
    "    yawMatrix = Matrix([\n",
    "        [cos(yaw), -sin(yaw), 0],\n",
    "        [sin(yaw), cos(yaw), 0],\n",
    "        [0, 0, 1]\n",
    "    ])\n",
    "\n",
    "\n",
    "    pitchMatrix = Matrix([\n",
    "        [cos(pitch), 0, sin(pitch)],\n",
    "        [0, 1, 0],\n",
    "        [-sin(pitch), 0, cos(pitch)]\n",
    "    ])\n",
    "    \n",
    "    rollMatrix = Matrix([\n",
    "        [1, 0, 0],\n",
    "        [0, cos(roll), -sin(roll)],\n",
    "        [0, sin(roll), cos(roll)]\n",
    "    ])\n",
    "    return yawMatrix @ pitchMatrix @ rollMatrix"
   ],
   "id": "313428d15130d57d",
   "outputs": [],
   "execution_count": 22
  },
  {
   "metadata": {
    "ExecuteTime": {
     "end_time": "2024-07-18T21:07:45.806418Z",
     "start_time": "2024-07-18T21:07:45.695074Z"
    }
   },
   "cell_type": "code",
   "source": [
    "\n",
    "#symbolic xdot\n",
    "xref = Matrix(symbols('x^{*}_{:24}'))\n",
    "u_eq = Matrix([mass * gravity, 0, 0, 0, mass*gravity, 0, 0, 0])\n",
    "#essentially we always have\n",
    "\n",
    "R_ref = eye(3)\n",
    "R_ref[0, 0] = sp.cos(xref[2])\n",
    "R_ref[0, 1] = -sp.sin(xref[2])\n",
    "R_ref[1, 0] = sp.sin(xref[2])\n",
    "R_ref[1, 1] = sp.cos(xref[2])\n",
    "R = rpy_to_rot(x[:3])\n",
    "#think about how to do this properly? for now if we assume the desired yaw is 0, then we have purely \n",
    "xhat = x - xref\n",
    "uhat = u - u_eq\n",
    "\n",
    "# R = Rotation.from_euler('xyz', (1,2,3)).as_matrix()\n",
    "\n",
    "# e = x - xref\n",
    "# e\n",
    "# this is how we form the error state using the desired yaw. essential R_des.T @ (x-xdes) where R_des is the desired yaw angle\n",
    "# R_eq = Rotation.from_euler('xyz', [0, 0, x_des[2]]).as_matrix()\n",
    "# R = Rotation.from_euler('xyz', x[:3]).as_matrix()\n",
    "# R_err = R_eq.T @ R\n",
    "# e[:3] = Rotation.from_matrix(R_err).as_euler('xyz')\n",
    "# e[9:] = R_eq.T @ (x[9:] - x_des[9:])\n",
    "# e[6:9] = R_eq.T @ (x[6:9] - x_des[6:9])\n",
    "# e[3:6] = R_eq.T @ (x[3:6] - x_des[3:6])\n",
    "\n",
    "xdot = A @ xhat + B @ uhat\n",
    "xdot\n",
    "# xdot\n",
    "#need to think about how thi"
   ],
   "id": "efa2f2186b1b2728",
   "outputs": [
    {
     "data": {
      "text/plain": [
       "[   x3 - x^{*}_{3}    ]\n",
       "[                     ]\n",
       "[   x4 - x^{*}_{4}    ]\n",
       "[                     ]\n",
       "[   x5 - x^{*}_{5}    ]\n",
       "[                     ]\n",
       "[          u1         ]\n",
       "[         ---         ]\n",
       "[         Ixx         ]\n",
       "[                     ]\n",
       "[          u2         ]\n",
       "[         ---         ]\n",
       "[         Iyy         ]\n",
       "[                     ]\n",
       "[          u3         ]\n",
       "[         ---         ]\n",
       "[         Izz         ]\n",
       "[                     ]\n",
       "[ g*(x1 - x^{*}_{1})  ]\n",
       "[                     ]\n",
       "[ -g*(x0 - x^{*}_{0}) ]\n",
       "[                     ]\n",
       "[      -g*m + u0      ]\n",
       "[      ---------      ]\n",
       "[          m          ]\n",
       "[                     ]\n",
       "[   x6 - x^{*}_{6}    ]\n",
       "[                     ]\n",
       "[   x7 - x^{*}_{7}    ]\n",
       "[                     ]\n",
       "[   x8 - x^{*}_{8}    ]\n",
       "[                     ]\n",
       "[  x15 - x^{*}_{15}   ]\n",
       "[                     ]\n",
       "[  x16 - x^{*}_{16}   ]\n",
       "[                     ]\n",
       "[  x17 - x^{*}_{17}   ]\n",
       "[                     ]\n",
       "[          u5         ]\n",
       "[         ---         ]\n",
       "[         Ixx         ]\n",
       "[                     ]\n",
       "[          u6         ]\n",
       "[         ---         ]\n",
       "[         Iyy         ]\n",
       "[                     ]\n",
       "[          u7         ]\n",
       "[         ---         ]\n",
       "[         Izz         ]\n",
       "[                     ]\n",
       "[g*(x13 - x^{*}_{13}) ]\n",
       "[                     ]\n",
       "[-g*(x12 - x^{*}_{12})]\n",
       "[                     ]\n",
       "[      -g*m + u4      ]\n",
       "[      ---------      ]\n",
       "[          m          ]\n",
       "[                     ]\n",
       "[  x18 - x^{*}_{18}   ]\n",
       "[                     ]\n",
       "[  x19 - x^{*}_{19}   ]\n",
       "[                     ]\n",
       "[  x20 - x^{*}_{20}   ]"
      ],
      "text/latex": "$\\displaystyle \\left[\\begin{matrix}x_{3} - x^{*}_{3}\\\\x_{4} - x^{*}_{4}\\\\x_{5} - x^{*}_{5}\\\\\\frac{u_{1}}{Ixx}\\\\\\frac{u_{2}}{Iyy}\\\\\\frac{u_{3}}{Izz}\\\\g \\left(x_{1} - x^{*}_{1}\\right)\\\\- g \\left(x_{0} - x^{*}_{0}\\right)\\\\\\frac{- g m + u_{0}}{m}\\\\x_{6} - x^{*}_{6}\\\\x_{7} - x^{*}_{7}\\\\x_{8} - x^{*}_{8}\\\\x_{15} - x^{*}_{15}\\\\x_{16} - x^{*}_{16}\\\\x_{17} - x^{*}_{17}\\\\\\frac{u_{5}}{Ixx}\\\\\\frac{u_{6}}{Iyy}\\\\\\frac{u_{7}}{Izz}\\\\g \\left(x_{13} - x^{*}_{13}\\right)\\\\- g \\left(x_{12} - x^{*}_{12}\\right)\\\\\\frac{- g m + u_{4}}{m}\\\\x_{18} - x^{*}_{18}\\\\x_{19} - x^{*}_{19}\\\\x_{20} - x^{*}_{20}\\end{matrix}\\right]$"
     },
     "execution_count": 23,
     "metadata": {},
     "output_type": "execute_result"
    }
   ],
   "execution_count": 23
  },
  {
   "metadata": {
    "ExecuteTime": {
     "end_time": "2024-07-18T21:07:45.852349Z",
     "start_time": "2024-07-18T21:07:45.809931Z"
    }
   },
   "cell_type": "code",
   "source": [
    "hdot = my_dhdx.T @ xdot\n",
    "hdot\n"
   ],
   "id": "4bc5b503e27dca49",
   "outputs": [
    {
     "data": {
      "text/plain": [
       "[                                                                             \n",
       "[                               /               2                2\\           \n",
       "[(x10 - x22)*(x19 - x^{*}_{19})*\\- 4*(x10 - x22)  - 4*(-x21 + x9) / + (x10 - x\n",
       "[                                                                             \n",
       "[                                                                             \n",
       "\n",
       "                                                                              \n",
       "                     /             2                2\\                        \n",
       "22)*(x7 - x^{*}_{7})*\\4*(x10 - x22)  + 4*(-x21 + x9) / + (x18 - x^{*}_{18})*(-\n",
       "                                                                              \n",
       "                                                                              \n",
       "\n",
       "                                                                              \n",
       "          /               2                2\\                                /\n",
       "x21 + x9)*\\- 4*(x10 - x22)  - 4*(-x21 + x9) / + (-x21 + x9)*(x6 - x^{*}_{6})*\\\n",
       "                                                                              \n",
       "                                                                              \n",
       "\n",
       "                                                3                             \n",
       "             2                2\\   4*(x11 - x23) *(x20 - x^{*}_{20})   4*(x11 \n",
       "4*(x10 - x22)  + 4*(-x21 + x9) / - --------------------------------- + -------\n",
       "                                                    4                         \n",
       "                                                   c                          \n",
       "\n",
       "      3                 ]\n",
       "- x23) *(x8 - x^{*}_{8})]\n",
       "------------------------]\n",
       "         4              ]\n",
       "        c               ]"
      ],
      "text/latex": "$\\displaystyle \\left[\\begin{matrix}\\left(x_{10} - x_{22}\\right) \\left(x_{19} - x^{*}_{19}\\right) \\left(- 4 \\left(x_{10} - x_{22}\\right)^{2} - 4 \\left(- x_{21} + x_{9}\\right)^{2}\\right) + \\left(x_{10} - x_{22}\\right) \\left(x_{7} - x^{*}_{7}\\right) \\left(4 \\left(x_{10} - x_{22}\\right)^{2} + 4 \\left(- x_{21} + x_{9}\\right)^{2}\\right) + \\left(x_{18} - x^{*}_{18}\\right) \\left(- x_{21} + x_{9}\\right) \\left(- 4 \\left(x_{10} - x_{22}\\right)^{2} - 4 \\left(- x_{21} + x_{9}\\right)^{2}\\right) + \\left(- x_{21} + x_{9}\\right) \\left(x_{6} - x^{*}_{6}\\right) \\left(4 \\left(x_{10} - x_{22}\\right)^{2} + 4 \\left(- x_{21} + x_{9}\\right)^{2}\\right) - \\frac{4 \\left(x_{11} - x_{23}\\right)^{3} \\left(x_{20} - x^{*}_{20}\\right)}{c^{4}} + \\frac{4 \\left(x_{11} - x_{23}\\right)^{3} \\left(x_{8} - x^{*}_{8}\\right)}{c^{4}}\\end{matrix}\\right]$"
     },
     "execution_count": 24,
     "metadata": {},
     "output_type": "execute_result"
    }
   ],
   "execution_count": 24
  },
  {
   "metadata": {
    "ExecuteTime": {
     "end_time": "2024-07-18T21:07:45.986861Z",
     "start_time": "2024-07-18T21:07:45.963865Z"
    }
   },
   "cell_type": "code",
   "source": [
    "x_2dot = A @ A @ xhat + A @ B @ uhat\n",
    "x_2dot"
   ],
   "id": "33c0fcbd0b7a88bb",
   "outputs": [
    {
     "data": {
      "text/plain": [
       "[          u1         ]\n",
       "[         ---         ]\n",
       "[         Ixx         ]\n",
       "[                     ]\n",
       "[          u2         ]\n",
       "[         ---         ]\n",
       "[         Iyy         ]\n",
       "[                     ]\n",
       "[          u3         ]\n",
       "[         ---         ]\n",
       "[         Izz         ]\n",
       "[                     ]\n",
       "[          0          ]\n",
       "[                     ]\n",
       "[          0          ]\n",
       "[                     ]\n",
       "[          0          ]\n",
       "[                     ]\n",
       "[ g*(x4 - x^{*}_{4})  ]\n",
       "[                     ]\n",
       "[ -g*(x3 - x^{*}_{3}) ]\n",
       "[                     ]\n",
       "[          0          ]\n",
       "[                     ]\n",
       "[ g*(x1 - x^{*}_{1})  ]\n",
       "[                     ]\n",
       "[ -g*(x0 - x^{*}_{0}) ]\n",
       "[                     ]\n",
       "[      -g*m + u0      ]\n",
       "[      ---------      ]\n",
       "[          m          ]\n",
       "[                     ]\n",
       "[          u5         ]\n",
       "[         ---         ]\n",
       "[         Ixx         ]\n",
       "[                     ]\n",
       "[          u6         ]\n",
       "[         ---         ]\n",
       "[         Iyy         ]\n",
       "[                     ]\n",
       "[          u7         ]\n",
       "[         ---         ]\n",
       "[         Izz         ]\n",
       "[                     ]\n",
       "[          0          ]\n",
       "[                     ]\n",
       "[          0          ]\n",
       "[                     ]\n",
       "[          0          ]\n",
       "[                     ]\n",
       "[g*(x16 - x^{*}_{16}) ]\n",
       "[                     ]\n",
       "[-g*(x15 - x^{*}_{15})]\n",
       "[                     ]\n",
       "[          0          ]\n",
       "[                     ]\n",
       "[g*(x13 - x^{*}_{13}) ]\n",
       "[                     ]\n",
       "[-g*(x12 - x^{*}_{12})]\n",
       "[                     ]\n",
       "[      -g*m + u4      ]\n",
       "[      ---------      ]\n",
       "[          m          ]"
      ],
      "text/latex": "$\\displaystyle \\left[\\begin{matrix}\\frac{u_{1}}{Ixx}\\\\\\frac{u_{2}}{Iyy}\\\\\\frac{u_{3}}{Izz}\\\\0\\\\0\\\\0\\\\g \\left(x_{4} - x^{*}_{4}\\right)\\\\- g \\left(x_{3} - x^{*}_{3}\\right)\\\\0\\\\g \\left(x_{1} - x^{*}_{1}\\right)\\\\- g \\left(x_{0} - x^{*}_{0}\\right)\\\\\\frac{- g m + u_{0}}{m}\\\\\\frac{u_{5}}{Ixx}\\\\\\frac{u_{6}}{Iyy}\\\\\\frac{u_{7}}{Izz}\\\\0\\\\0\\\\0\\\\g \\left(x_{16} - x^{*}_{16}\\right)\\\\- g \\left(x_{15} - x^{*}_{15}\\right)\\\\0\\\\g \\left(x_{13} - x^{*}_{13}\\right)\\\\- g \\left(x_{12} - x^{*}_{12}\\right)\\\\\\frac{- g m + u_{4}}{m}\\end{matrix}\\right]$"
     },
     "execution_count": 25,
     "metadata": {},
     "output_type": "execute_result"
    }
   ],
   "execution_count": 25
  },
  {
   "metadata": {},
   "cell_type": "markdown",
   "source": "",
   "id": "f8ba24b8dc0f460e"
  },
  {
   "metadata": {
    "ExecuteTime": {
     "end_time": "2024-07-18T21:07:50.170154Z",
     "start_time": "2024-07-18T21:07:46.212490Z"
    }
   },
   "cell_type": "code",
   "source": [
    "h_2dot = my_dhdx.T @ x_2dot + (A @ xhat).T @ (my_d2hdx2.T @ (A @ xhat + B @ uhat)) \n",
    "h_2dot.simplify()\n",
    "\n",
    "# easier_h2dot = tmp @ (A@xhat + B@uhat)\n"
   ],
   "id": "f63f0381ca765b36",
   "outputs": [],
   "execution_count": 26
  },
  {
   "metadata": {
    "ExecuteTime": {
     "end_time": "2024-07-18T21:07:50.209354Z",
     "start_time": "2024-07-18T21:07:50.205848Z"
    }
   },
   "cell_type": "code",
   "source": "",
   "id": "c487ccab1d9498e1",
   "outputs": [],
   "execution_count": 26
  },
  {
   "metadata": {
    "ExecuteTime": {
     "end_time": "2024-07-18T21:07:50.250412Z",
     "start_time": "2024-07-18T21:07:50.212952Z"
    }
   },
   "cell_type": "code",
   "source": [
    "term1 = my_dhdx.T @ A@B@uhat #as I expected this only considers the thrust inputs, to encode the full dynamics we need to consider the full input, and therefore another derivative\n",
    "term1 "
   ],
   "id": "c862c489cef4863",
   "outputs": [
    {
     "data": {
      "text/plain": [
       "[             3                            3            ]\n",
       "[4*(x11 - x23) *(-g*m + u0)   4*(x11 - x23) *(-g*m + u4)]\n",
       "[-------------------------- - --------------------------]\n",
       "[            4                            4             ]\n",
       "[           c *m                         c *m           ]"
      ],
      "text/latex": "$\\displaystyle \\left[\\begin{matrix}\\frac{4 \\left(x_{11} - x_{23}\\right)^{3} \\left(- g m + u_{0}\\right)}{c^{4} m} - \\frac{4 \\left(x_{11} - x_{23}\\right)^{3} \\left(- g m + u_{4}\\right)}{c^{4} m}\\end{matrix}\\right]$"
     },
     "execution_count": 27,
     "metadata": {},
     "output_type": "execute_result"
    }
   ],
   "execution_count": 27
  },
  {
   "metadata": {
    "ExecuteTime": {
     "end_time": "2024-07-18T21:07:50.411650Z",
     "start_time": "2024-07-18T21:07:50.258906Z"
    }
   },
   "cell_type": "code",
   "source": [
    "term2 = (A @ xhat).T @ (my_d2hdx2.T @ (A@xhat + B @ uhat))\n",
    "term2"
   ],
   "id": "89d0608e5086c80a",
   "outputs": [
    {
     "data": {
      "text/plain": [
       "[                                                                             \n",
       "[                   /                                                         \n",
       "[(x18 - x^{*}_{18})*\\(8*x10 - 8*x22)*(x19 - x^{*}_{19})*(-x21 + x9) - (8*x10 -\n",
       "[                                                                             \n",
       "[                                                                             \n",
       "\n",
       "                                                                              \n",
       "                                                          /             2     \n",
       " 8*x22)*(-x21 + x9)*(x7 - x^{*}_{7}) + (x18 - x^{*}_{18})*\\4*(x10 - x22)  + (-\n",
       "                                                                              \n",
       "                                                                              \n",
       "\n",
       "                                                                              \n",
       "                                         2\\                    /              \n",
       "8*x21 + 8*x9)*(-x21 + x9) + 4*(-x21 + x9) / + (x6 - x^{*}_{6})*\\- 4*(x10 - x22\n",
       "                                                                              \n",
       "                                                                              \n",
       "\n",
       "                                                                              \n",
       " 2                                              2\\\\                      /    \n",
       ")  - (-8*x21 + 8*x9)*(-x21 + x9) - 4*(-x21 + x9) // + (x19 - x^{*}_{19})*\\(x10\n",
       "                                                                              \n",
       "                                                                              \n",
       "\n",
       "                                                                              \n",
       "                                                                              \n",
       " - x22)*(x18 - x^{*}_{18})*(-8*x21 + 8*x9) - (x10 - x22)*(-8*x21 + 8*x9)*(x6 -\n",
       "                                                                              \n",
       "                                                                              \n",
       "\n",
       "                                                                              \n",
       "                                 /             2                              \n",
       " x^{*}_{6}) + (x19 - x^{*}_{19})*\\4*(x10 - x22)  + (x10 - x22)*(8*x10 - 8*x22)\n",
       "                                                                              \n",
       "                                                                              \n",
       "\n",
       "                                                                              \n",
       "                2\\                    /               2                       \n",
       " + 4*(-x21 + x9) / + (x7 - x^{*}_{7})*\\- 4*(x10 - x22)  - (x10 - x22)*(8*x10 -\n",
       "                                                                              \n",
       "                                                                              \n",
       "\n",
       "                                                /              2              \n",
       "                       2\\\\                      |12*(x11 - x23) *(x20 - x^{*}_\n",
       " 8*x22) - 4*(-x21 + x9) // + (x20 - x^{*}_{20})*|-----------------------------\n",
       "                                                |                 4           \n",
       "                                                \\                c            \n",
       "\n",
       "                      2                 \\                                     \n",
       "{20})   12*(x11 - x23) *(x8 - x^{*}_{8})|                    /                \n",
       "----- - --------------------------------| + (x6 - x^{*}_{6})*\\-(8*x10 - 8*x22)\n",
       "                        4               |                                     \n",
       "                       c                /                                     \n",
       "\n",
       "                                                                              \n",
       "                                                                              \n",
       "*(x19 - x^{*}_{19})*(-x21 + x9) + (8*x10 - 8*x22)*(-x21 + x9)*(x7 - x^{*}_{7})\n",
       "                                                                              \n",
       "                                                                              \n",
       "\n",
       "                                                                              \n",
       "                      /               2                                       \n",
       " + (x18 - x^{*}_{18})*\\- 4*(x10 - x22)  - (-8*x21 + 8*x9)*(-x21 + x9) - 4*(-x2\n",
       "                                                                              \n",
       "                                                                              \n",
       "\n",
       "                                                                              \n",
       "       2\\                    /             2                                  \n",
       "1 + x9) / + (x6 - x^{*}_{6})*\\4*(x10 - x22)  + (-8*x21 + 8*x9)*(-x21 + x9) + 4\n",
       "                                                                              \n",
       "                                                                              \n",
       "\n",
       "                                                                              \n",
       "            2\\\\                    /                                          \n",
       "*(-x21 + x9) // + (x7 - x^{*}_{7})*\\-(x10 - x22)*(x18 - x^{*}_{18})*(-8*x21 + \n",
       "                                                                              \n",
       "                                                                              \n",
       "\n",
       "                                                                              \n",
       "                                                                          /   \n",
       "8*x9) + (x10 - x22)*(-8*x21 + 8*x9)*(x6 - x^{*}_{6}) + (x19 - x^{*}_{19})*\\- 4\n",
       "                                                                              \n",
       "                                                                              \n",
       "\n",
       "                                                                              \n",
       "            2                                              2\\                 \n",
       "*(x10 - x22)  - (x10 - x22)*(8*x10 - 8*x22) - 4*(-x21 + x9) / + (x7 - x^{*}_{7\n",
       "                                                                              \n",
       "                                                                              \n",
       "\n",
       "                                                                              \n",
       "   /             2                                              2\\\\           \n",
       "})*\\4*(x10 - x22)  + (x10 - x22)*(8*x10 - 8*x22) + 4*(-x21 + x9) // + (x8 - x^\n",
       "                                                                              \n",
       "                                                                              \n",
       "\n",
       "         /                2                                    2              \n",
       "         |  12*(x11 - x23) *(x20 - x^{*}_{20})   12*(x11 - x23) *(x8 - x^{*}_{\n",
       "{*}_{8})*|- ---------------------------------- + -----------------------------\n",
       "         |                   4                                   4            \n",
       "         \\                  c                                   c             \n",
       "\n",
       "   \\]\n",
       "8})|]\n",
       "---|]\n",
       "   |]\n",
       "   /]"
      ],
      "text/latex": "$\\displaystyle \\left[\\begin{matrix}\\left(x_{18} - x^{*}_{18}\\right) \\left(\\left(8 x_{10} - 8 x_{22}\\right) \\left(x_{19} - x^{*}_{19}\\right) \\left(- x_{21} + x_{9}\\right) - \\left(8 x_{10} - 8 x_{22}\\right) \\left(- x_{21} + x_{9}\\right) \\left(x_{7} - x^{*}_{7}\\right) + \\left(x_{18} - x^{*}_{18}\\right) \\left(4 \\left(x_{10} - x_{22}\\right)^{2} + \\left(- 8 x_{21} + 8 x_{9}\\right) \\left(- x_{21} + x_{9}\\right) + 4 \\left(- x_{21} + x_{9}\\right)^{2}\\right) + \\left(x_{6} - x^{*}_{6}\\right) \\left(- 4 \\left(x_{10} - x_{22}\\right)^{2} - \\left(- 8 x_{21} + 8 x_{9}\\right) \\left(- x_{21} + x_{9}\\right) - 4 \\left(- x_{21} + x_{9}\\right)^{2}\\right)\\right) + \\left(x_{19} - x^{*}_{19}\\right) \\left(\\left(x_{10} - x_{22}\\right) \\left(x_{18} - x^{*}_{18}\\right) \\left(- 8 x_{21} + 8 x_{9}\\right) - \\left(x_{10} - x_{22}\\right) \\left(- 8 x_{21} + 8 x_{9}\\right) \\left(x_{6} - x^{*}_{6}\\right) + \\left(x_{19} - x^{*}_{19}\\right) \\left(4 \\left(x_{10} - x_{22}\\right)^{2} + \\left(x_{10} - x_{22}\\right) \\left(8 x_{10} - 8 x_{22}\\right) + 4 \\left(- x_{21} + x_{9}\\right)^{2}\\right) + \\left(x_{7} - x^{*}_{7}\\right) \\left(- 4 \\left(x_{10} - x_{22}\\right)^{2} - \\left(x_{10} - x_{22}\\right) \\left(8 x_{10} - 8 x_{22}\\right) - 4 \\left(- x_{21} + x_{9}\\right)^{2}\\right)\\right) + \\left(x_{20} - x^{*}_{20}\\right) \\left(\\frac{12 \\left(x_{11} - x_{23}\\right)^{2} \\left(x_{20} - x^{*}_{20}\\right)}{c^{4}} - \\frac{12 \\left(x_{11} - x_{23}\\right)^{2} \\left(x_{8} - x^{*}_{8}\\right)}{c^{4}}\\right) + \\left(x_{6} - x^{*}_{6}\\right) \\left(- \\left(8 x_{10} - 8 x_{22}\\right) \\left(x_{19} - x^{*}_{19}\\right) \\left(- x_{21} + x_{9}\\right) + \\left(8 x_{10} - 8 x_{22}\\right) \\left(- x_{21} + x_{9}\\right) \\left(x_{7} - x^{*}_{7}\\right) + \\left(x_{18} - x^{*}_{18}\\right) \\left(- 4 \\left(x_{10} - x_{22}\\right)^{2} - \\left(- 8 x_{21} + 8 x_{9}\\right) \\left(- x_{21} + x_{9}\\right) - 4 \\left(- x_{21} + x_{9}\\right)^{2}\\right) + \\left(x_{6} - x^{*}_{6}\\right) \\left(4 \\left(x_{10} - x_{22}\\right)^{2} + \\left(- 8 x_{21} + 8 x_{9}\\right) \\left(- x_{21} + x_{9}\\right) + 4 \\left(- x_{21} + x_{9}\\right)^{2}\\right)\\right) + \\left(x_{7} - x^{*}_{7}\\right) \\left(- \\left(x_{10} - x_{22}\\right) \\left(x_{18} - x^{*}_{18}\\right) \\left(- 8 x_{21} + 8 x_{9}\\right) + \\left(x_{10} - x_{22}\\right) \\left(- 8 x_{21} + 8 x_{9}\\right) \\left(x_{6} - x^{*}_{6}\\right) + \\left(x_{19} - x^{*}_{19}\\right) \\left(- 4 \\left(x_{10} - x_{22}\\right)^{2} - \\left(x_{10} - x_{22}\\right) \\left(8 x_{10} - 8 x_{22}\\right) - 4 \\left(- x_{21} + x_{9}\\right)^{2}\\right) + \\left(x_{7} - x^{*}_{7}\\right) \\left(4 \\left(x_{10} - x_{22}\\right)^{2} + \\left(x_{10} - x_{22}\\right) \\left(8 x_{10} - 8 x_{22}\\right) + 4 \\left(- x_{21} + x_{9}\\right)^{2}\\right)\\right) + \\left(x_{8} - x^{*}_{8}\\right) \\left(- \\frac{12 \\left(x_{11} - x_{23}\\right)^{2} \\left(x_{20} - x^{*}_{20}\\right)}{c^{4}} + \\frac{12 \\left(x_{11} - x_{23}\\right)^{2} \\left(x_{8} - x^{*}_{8}\\right)}{c^{4}}\\right)\\end{matrix}\\right]$"
     },
     "execution_count": 28,
     "metadata": {},
     "output_type": "execute_result"
    }
   ],
   "execution_count": 28
  },
  {
   "metadata": {},
   "cell_type": "code",
   "source": [
    "x_3dot = (A@A) @ (A @ xhat + B @ uhat)\n",
    "x_3dot\n",
    "\n",
    "\n",
    "# thrust (Vdot) -> vz -> z\n",
    "# omega -> rpy proportional to ax/ay -> vx/vy -> x,y \n",
    "# thrust + omega control in sim\n",
    "    \n",
    "\n",
    "# d_h2dotdx = diff(h_2dot, x)\n",
    "# d_h2dotdx = d_h2dotdx.reshape(24,1)\n",
    "# d_h2dotdx = Matrix(d_h2dotdx)\n",
    "# print(d_h2dotdx.shape)\n",
    "# print(type(d_h2dotdx))\n",
    "# print(sp.latex(d_h2dotdx))"
   ],
   "id": "1841eaa2b0f1d5ea",
   "outputs": [],
   "execution_count": null
  },
  {
   "metadata": {},
   "cell_type": "code",
   "source": [
    "h_3dot = d_h2dotdx.T @ (A@xhat + B@uhat)\n",
    "h_3dot.simplify()\n",
    "print(sp.latex(h_3dot))\n",
    "h_3dot\n",
    "# h_3dot_t1 = my_dhdx.T @ x_3dot + x_2dot.T @  (my_d2hdx2.T @ (A@xhat + B @ uhat))\n",
    "# print(sp.latex(h_3dot_t1))"
   ],
   "id": "145165cb2f92ff64",
   "outputs": [],
   "execution_count": null
  },
  {
   "metadata": {},
   "cell_type": "code",
   "source": [
    "d_h3dotdx = diff(h_3dot, x)\n",
    "d_h3dotdx = d_h3dotdx.reshape(24, 1)\n",
    "d_h3dotdx = Matrix(d_h3dotdx)\n",
    "d_h3dotdx"
   ],
   "id": "c36f9aed7eebddb6",
   "outputs": [],
   "execution_count": null
  },
  {
   "metadata": {},
   "cell_type": "code",
   "source": [
    "h_4dot = d_h3dotdx.T @ (A@xhat + B@uhat)\n",
    "h_4dot.simplify()\n",
    "h_4dot"
   ],
   "id": "7d08189b4a270aa7",
   "outputs": [],
   "execution_count": null
  },
  {
   "metadata": {},
   "cell_type": "code",
   "source": "print(sp.latex(h_4dot))",
   "id": "8e29408e63bdcb59",
   "outputs": [],
   "execution_count": null
  },
  {
   "metadata": {},
   "cell_type": "code",
   "source": "#for this model we need h_4dot because it's the only one that will actually have a component for pitch and roll to be able to control the system,",
   "id": "bb61a99dbc4188ad",
   "outputs": [],
   "execution_count": null
  }
 ],
 "metadata": {
  "kernelspec": {
   "display_name": "Python 3",
   "language": "python",
   "name": "python3"
  },
  "language_info": {
   "codemirror_mode": {
    "name": "ipython",
    "version": 2
   },
   "file_extension": ".py",
   "mimetype": "text/x-python",
   "name": "python",
   "nbconvert_exporter": "python",
   "pygments_lexer": "ipython2",
   "version": "2.7.6"
  }
 },
 "nbformat": 4,
 "nbformat_minor": 5
}
