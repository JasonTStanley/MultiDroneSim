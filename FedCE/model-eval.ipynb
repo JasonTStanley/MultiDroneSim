{
 "cells": [
  {
   "cell_type": "code",
   "execution_count": 2,
   "metadata": {},
   "outputs": [
    {
     "name": "stderr",
     "output_type": "stream",
     "text": [
      "pybullet build time: Nov 28 2023 23:45:17\n"
     ]
    }
   ],
   "source": [
    "import numpy as np\n",
    "import time\n",
    "from utils import obs_to_lin_model, Environment\n",
    "from typing import List\n",
    "from model import LinearizedYankOmegaModel\n",
    "from control.dlqr.decentralized_yolqr_crazyflie import DecentralizedYOLQRCrazyflie, YOState\n",
    "from FedCE import FederatedLearning\n",
    "import matplotlib.pyplot as plt\n",
    "from utils.graph_fedce import plot_prediction_errors\n",
    "plt.rcParams.update({\n",
    "    \"text.usetex\": True\n",
    "})"
   ]
  },
  {
   "cell_type": "code",
   "execution_count": 3,
   "metadata": {},
   "outputs": [],
   "source": [
    "#load the data from files\n",
    "path_prefix = \"/home/erl/multi-robot/ros2_ws/\"\n",
    "data_path = path_prefix + \"3square_transition_data.npy\"\n",
    "model_path = path_prefix + \"3square_theta.npy\"\n",
    "\n",
    "data = np.load(data_path, allow_pickle=True)\n",
    "model = np.load(model_path, allow_pickle=True)\n"
   ]
  },
  {
   "cell_type": "code",
   "execution_count": 4,
   "metadata": {},
   "outputs": [
    {
     "name": "stdout",
     "output_type": "stream",
     "text": [
      "state.shape=(4010, 10) u.shape=(4010, 4) phis.shape=(4010, 14) etp1s.shape=(4010, 10)\n"
     ]
    }
   ],
   "source": [
    "# parse data into separate numpy arrays, need to split 38 dimensional data into state, u, phis, etp1\n",
    "state, u, phis, etp1s = np.split(data, [10, 14, 28, ], axis=1)\n",
    "print(f\"{state.shape=} {u.shape=} {phis.shape=} {etp1s.shape=}\")"
   ]
  },
  {
   "cell_type": "code",
   "execution_count": 32,
   "metadata": {},
   "outputs": [
    {
     "name": "stdout",
     "output_type": "stream",
     "text": [
      "P=\n",
      "[[[0.01 0.   0.   0.   0.   0.   0.   0.   0.   0.   0.   0.   0.   0.  ]\n",
      "  [0.   0.01 0.   0.   0.   0.   0.   0.   0.   0.   0.   0.   0.   0.  ]\n",
      "  [0.   0.   0.01 0.   0.   0.   0.   0.   0.   0.   0.   0.   0.   0.  ]\n",
      "  [0.   0.   0.   0.01 0.   0.   0.   0.   0.   0.   0.   0.   0.   0.  ]\n",
      "  [0.   0.   0.   0.   0.01 0.   0.   0.   0.   0.   0.   0.   0.   0.  ]\n",
      "  [0.   0.   0.   0.   0.   0.01 0.   0.   0.   0.   0.   0.   0.   0.  ]\n",
      "  [0.   0.   0.   0.   0.   0.   0.01 0.   0.   0.   0.   0.   0.   0.  ]\n",
      "  [0.   0.   0.   0.   0.   0.   0.   0.01 0.   0.   0.   0.   0.   0.  ]\n",
      "  [0.   0.   0.   0.   0.   0.   0.   0.   0.01 0.   0.   0.   0.   0.  ]\n",
      "  [0.   0.   0.   0.   0.   0.   0.   0.   0.   0.01 0.   0.   0.   0.  ]\n",
      "  [0.   0.   0.   0.   0.   0.   0.   0.   0.   0.   0.01 0.   0.   0.  ]\n",
      "  [0.   0.   0.   0.   0.   0.   0.   0.   0.   0.   0.   0.01 0.   0.  ]\n",
      "  [0.   0.   0.   0.   0.   0.   0.   0.   0.   0.   0.   0.   0.01 0.  ]\n",
      "  [0.   0.   0.   0.   0.   0.   0.   0.   0.   0.   0.   0.   0.   0.01]]]\n",
      "Theta A:\n",
      "[[  0.      0.      0.      0.      0.      0.      0.      0.      0.      0.   ]\n",
      " [  0.      0.      0.      0.      0.      0.      0.      0.      0.      0.   ]\n",
      " [  0.      0.      0.      0.      0.      0.      0.      0.      0.      0.   ]\n",
      " [  0.      0.      0.      0.      0.      0.      0.      0.      0.      0.   ]\n",
      " [  0.     11.772   0.      0.      0.      0.      0.      0.      0.      0.   ]\n",
      " [-11.772   0.      0.      0.      0.      0.      0.      0.      0.      0.   ]\n",
      " [  0.      0.      0.     35.714   0.      0.      0.      0.      0.      0.   ]\n",
      " [  0.      0.      0.      0.      1.      0.      0.      0.      0.      0.   ]\n",
      " [  0.      0.      0.      0.      0.      1.      0.      0.      0.      0.   ]\n",
      " [  0.      0.      0.      0.      0.      0.      1.      0.      0.      0.   ]]\n",
      "Theta B:\n",
      "[[0. 1. 0. 0.]\n",
      " [0. 0. 1. 0.]\n",
      " [0. 0. 0. 1.]\n",
      " [1. 0. 0. 0.]\n",
      " [0. 0. 0. 0.]\n",
      " [0. 0. 0. 0.]\n",
      " [0. 0. 0. 0.]\n",
      " [0. 0. 0. 0.]\n",
      " [0. 0. 0. 0.]\n",
      " [0. 0. 0. 0.]]\n",
      "Theta A:\n",
      "[[  0.      0.      0.      0.      0.      0.      0.      0.      0.      0.   ]\n",
      " [  0.      0.      0.      0.      0.      0.      0.      0.      0.      0.   ]\n",
      " [  0.      0.      0.      0.      0.      0.      0.      0.      0.      0.   ]\n",
      " [  0.      0.      0.      0.      0.      0.      0.      0.      0.      0.   ]\n",
      " [ -0.194  11.508  -0.025  -0.002   0.17   -0.097   0.001   0.23   -0.163  -0.014]\n",
      " [-11.809  -0.743  -0.063   0.083   0.713   0.073  -0.124   0.175  -0.259  -0.024]\n",
      " [  0.13    0.076   0.051  35.172  -0.048   0.149   0.104  -0.074  -0.004   1.383]\n",
      " [ -0.002   0.022  -0.001  -0.      0.982  -0.      0.001  -0.015  -0.002  -0.   ]\n",
      " [ -0.028  -0.008  -0.      0.001   0.007   0.979  -0.002   0.003  -0.02   -0.   ]\n",
      " [  0.001  -0.      0.001   0.002   0.      0.      0.991  -0.      0.001  -0.002]]\n",
      "Theta B:\n",
      "[[ 0.     1.     0.     0.   ]\n",
      " [ 0.     0.     1.     0.   ]\n",
      " [ 0.     0.     0.     1.   ]\n",
      " [ 1.     0.     0.     0.   ]\n",
      " [ 0.102  0.009  0.2    0.   ]\n",
      " [-0.621 -0.357  0.023  0.   ]\n",
      " [ 5.502  0.006 -0.001  0.   ]\n",
      " [ 0.001 -0.     0.001  0.   ]\n",
      " [-0.006 -0.003  0.     0.   ]\n",
      " [ 0.053  0.     0.     0.   ]]\n"
     ]
    }
   ],
   "source": [
    "pred_errors = []\n",
    "#loop over the data and predict the next state as we learn the model\n",
    "G = 9.81\n",
    "M =.035\n",
    "MAX_THRUST = 0.3783857\n",
    "CTRL_TIMESTEP = 0.01\n",
    "env = Environment(G, M, MAX_THRUST, CTRL_TIMESTEP)\n",
    "lin_model = LinearizedYankOmegaModel(env)\n",
    "#for now Q,R arent used so just set = I\n",
    "num_robots = 1\n",
    "P = np.repeat(.01*np.eye(14)[:, :, None], num_robots, axis=2).transpose(2, 0, 1)\n",
    "# for i in range(num_robots):\n",
    "#     P[i][-3:, -3:] = 5_000_000 * np.eye(3)\n",
    "print(\"P=\")\n",
    "print(np.array_str(P, precision=3, suppress_small=True, max_line_width=100000))\n",
    "dlqr = DecentralizedYOLQRCrazyflie(env, [lin_model], np.eye(10), np.eye(4), P = P)\n",
    "\n",
    "def print_theta():\n",
    "    thetaA = dlqr.theta[:dlqr.m * dlqr.num_robots, :].T\n",
    "    thetaB = dlqr.theta[dlqr.m * dlqr.num_robots:, :].T\n",
    "    theta_str = \"Theta A:\\n\"\n",
    "    theta_str += np.array_str(thetaA, precision=3, suppress_small=True, max_line_width=100000)\n",
    "    theta_str += \"\\nTheta B:\\n\"\n",
    "    theta_str += np.array_str(thetaB, precision=3, suppress_small=True, max_line_width=100000)\n",
    "\n",
    "    print(theta_str)\n",
    "\n",
    "print_theta()\n",
    "# fed = FederatedLearning(env, [lin_model], np.eye(10), np.eye(4))\n",
    "for i in range(len(state)):\n",
    "    \n",
    "    x_tp1 = state[i]\n",
    "    phi = phis[i]\n",
    "    e_tp1 = etp1s[i]\n",
    "    x_dot = dlqr.est_x_dot(x_tp1, phi)\n",
    "    th_i = dlqr.get_thetai(0)\n",
    "    pred_errors.append(np.linalg.norm(x_dot.T - phi.T @ th_i))\n",
    "    dlqr.approx_theta_update(phi.reshape((1,-1)), e_tp1.reshape((1,-1)), project = False)\n",
    "\n",
    "    #do model update based on data\n",
    "\n",
    "print_theta()\n"
   ]
  },
  {
   "cell_type": "code",
   "execution_count": 33,
   "metadata": {},
   "outputs": [
    {
     "data": {
      "text/plain": [
       "Text(0, 0.5, 'Prediction Error')"
      ]
     },
     "execution_count": 33,
     "metadata": {},
     "output_type": "execute_result"
    },
    {
     "data": {
      "image/png": "[encoded data removed]",
      "text/plain": [
       "<Figure size 640x480 with 1 Axes>"
      ]
     },
     "metadata": {},
     "output_type": "display_data"
    }
   ],
   "source": [
    "\n",
    "save_path = f\"{path_prefix}3square_pred_errors.png\"\n",
    "plt.title(\"Prediction Errors: $|| \\dot{x}_i - \\dot{\\hat{x}}_i||_2$\")\n",
    "\n",
    "plt.plot(pred_errors, label=f'$\\hat{{\\\\theta}}_{i + 1}$ Pred')\n",
    "\n",
    "plt.xlabel(\"Time Step\")\n",
    "plt.ylabel(\"Prediction Error\")"
   ]
  },
  {
   "cell_type": "code",
   "execution_count": 34,
   "metadata": {},
   "outputs": [],
   "source": [
    "import sympy as sp"
   ]
  },
  {
   "cell_type": "code",
   "execution_count": 92,
   "metadata": {},
   "outputs": [],
   "source": [
    "s0 = sp.Symbol('s_0', real=True, positive=True)\n",
    "sf = sp.Symbol('s_f', real=True, positive=True)\n",
    "dist = sp.Symbol('d', real=True, positive=True)\n",
    "s = sp.Symbol('s', real=True, positive=True)\n",
    "max_a = sp.Symbol(r'a_{max}', real=True, positive=True)\n",
    "t = sp.Symbol('t', real=True, positive=True)\n",
    "\n",
    "\n",
    "# self.delta_v_init = self.speed * self.dir  - self.v0\n",
    "# self.delta_v_end = self.vf - self.speed * self.dir\n",
    "# self.time_init = np.linalg.norm(self.delta_v_init) / self.max_acc\n",
    "# self.time_end = np.linalg.norm(self.delta_v_end) / self.max_acc\n",
    "# self.dist_init = self.v0 * self.time_init + 0.5 * self.max_acc * self.time_init ** 2\n",
    "# self.dist_end = self.vf * self.time_end + 0.5 * self.max_acc * self.time_end ** 2\n",
    "delta_v_init = s - s0\n",
    "delta_v_end = sf - s \n",
    "time_init = delta_v_init / max_a\n",
    "time_end = delta_v_end / max_a\n",
    "dist_init = s0 * time_init + 0.5 * max_a * time_init ** 2\n",
    "dist_end = sf * time_end + 0.5 * max_a * time_end ** 2"
   ]
  },
  {
   "cell_type": "code",
   "execution_count": null,
   "metadata": {},
   "outputs": [],
   "source": []
  },
  {
   "cell_type": "code",
   "execution_count": 96,
   "metadata": {},
   "outputs": [
    {
     "data": {
      "text/latex": [
       "$\\displaystyle \\frac{1.0 \\left(- 1.0 a_{max} d + 1.0 s^{2} - 2.0 s s_{f} - 0.5 s_{0}^{2} + 1.5 s_{f}^{2}\\right)}{a_{max}}$"
      ],
      "text/plain": [
       "1.0*(-1.0*a_{max}*d + 1.0*s**2 - 2.0*s*s_f - 0.5*s_0**2 + 1.5*s_f**2)/a_{max}"
      ]
     },
     "execution_count": 96,
     "metadata": {},
     "output_type": "execute_result"
    }
   ],
   "source": [
    "diff_dist = sp.simplify(dist_init + dist_end - dist)\n",
    "diff_dist"
   ]
  },
  {
   "cell_type": "code",
   "execution_count": 102,
   "metadata": {},
   "outputs": [
    {
     "data": {
      "text/plain": [
       "[(s_f - 1.0*sqrt(a_{max}*d + 0.5*s_0**2 - 0.5*s_f**2),),\n",
       " (s_f + 1.0*sqrt(a_{max}*d + 0.5*s_0**2 - 0.5*s_f**2),)]"
      ]
     },
     "execution_count": 102,
     "metadata": {},
     "output_type": "execute_result"
    }
   ],
   "source": [
    "# diff_dist = diff_dist.subs({s0: 0, sf: 0})\n",
    "# diff_dist\n",
    "\n",
    "res = sp.solve([diff_dist], s)\n",
    "res"
   ]
  },
  {
   "cell_type": "code",
   "execution_count": 114,
   "metadata": {},
   "outputs": [
    {
     "data": {
      "text/latex": [
       "$\\displaystyle 1.0$"
      ],
      "text/plain": [
       "1.00000000000000"
      ]
     },
     "execution_count": 114,
     "metadata": {},
     "output_type": "execute_result"
    }
   ],
   "source": [
    "res[1][0].subs({s0: 0, sf: 0, dist: 1, max_a: 1})"
   ]
  },
  {
   "cell_type": "code",
   "execution_count": null,
   "metadata": {},
   "outputs": [],
   "source": []
  }
 ],
 "metadata": {
  "kernelspec": {
   "display_name": "multi",
   "language": "python",
   "name": "python3"
  },
  "language_info": {
   "codemirror_mode": {
    "name": "ipython",
    "version": 3
   },
   "file_extension": ".py",
   "mimetype": "text/x-python",
   "name": "python",
   "nbconvert_exporter": "python",
   "pygments_lexer": "ipython3",
   "version": "3.10.14"
  }
 },
 "nbformat": 4,
 "nbformat_minor": 2
}
